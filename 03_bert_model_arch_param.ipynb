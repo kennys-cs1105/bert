{
 "cells": [
  {
   "cell_type": "code",
   "execution_count": 1,
   "metadata": {},
   "outputs": [],
   "source": [
    "from transformers import BertModel"
   ]
  },
  {
   "cell_type": "code",
   "execution_count": 2,
   "metadata": {},
   "outputs": [],
   "source": [
    "model_name = 'bert-base-uncased'"
   ]
  },
  {
   "cell_type": "code",
   "execution_count": 3,
   "metadata": {},
   "outputs": [
    {
     "data": {
      "application/vnd.jupyter.widget-view+json": {
       "model_id": "3df4ab5537514298999ce80f58c7c4a9",
       "version_major": 2,
       "version_minor": 0
      },
      "text/plain": [
       "model.safetensors:   0%|          | 0.00/440M [00:00<?, ?B/s]"
      ]
     },
     "metadata": {},
     "output_type": "display_data"
    }
   ],
   "source": [
    "model = BertModel.from_pretrained(model_name)"
   ]
  },
  {
   "cell_type": "code",
   "execution_count": 4,
   "metadata": {},
   "outputs": [
    {
     "data": {
      "text/plain": [
       "BertModel(\n",
       "  (embeddings): BertEmbeddings(\n",
       "    (word_embeddings): Embedding(30522, 768, padding_idx=0)\n",
       "    (position_embeddings): Embedding(512, 768)\n",
       "    (token_type_embeddings): Embedding(2, 768)\n",
       "    (LayerNorm): LayerNorm((768,), eps=1e-12, elementwise_affine=True)\n",
       "    (dropout): Dropout(p=0.1, inplace=False)\n",
       "  )\n",
       "  (encoder): BertEncoder(\n",
       "    (layer): ModuleList(\n",
       "      (0-11): 12 x BertLayer(\n",
       "        (attention): BertAttention(\n",
       "          (self): BertSelfAttention(\n",
       "            (query): Linear(in_features=768, out_features=768, bias=True)\n",
       "            (key): Linear(in_features=768, out_features=768, bias=True)\n",
       "            (value): Linear(in_features=768, out_features=768, bias=True)\n",
       "            (dropout): Dropout(p=0.1, inplace=False)\n",
       "          )\n",
       "          (output): BertSelfOutput(\n",
       "            (dense): Linear(in_features=768, out_features=768, bias=True)\n",
       "            (LayerNorm): LayerNorm((768,), eps=1e-12, elementwise_affine=True)\n",
       "            (dropout): Dropout(p=0.1, inplace=False)\n",
       "          )\n",
       "        )\n",
       "        (intermediate): BertIntermediate(\n",
       "          (dense): Linear(in_features=768, out_features=3072, bias=True)\n",
       "          (intermediate_act_fn): GELUActivation()\n",
       "        )\n",
       "        (output): BertOutput(\n",
       "          (dense): Linear(in_features=3072, out_features=768, bias=True)\n",
       "          (LayerNorm): LayerNorm((768,), eps=1e-12, elementwise_affine=True)\n",
       "          (dropout): Dropout(p=0.1, inplace=False)\n",
       "        )\n",
       "      )\n",
       "    )\n",
       "  )\n",
       "  (pooler): BertPooler(\n",
       "    (dense): Linear(in_features=768, out_features=768, bias=True)\n",
       "    (activation): Tanh()\n",
       "  )\n",
       ")"
      ]
     },
     "execution_count": 4,
     "metadata": {},
     "output_type": "execute_result"
    }
   ],
   "source": [
    "model"
   ]
  },
  {
   "cell_type": "markdown",
   "metadata": {},
   "source": [
    "### summary\n",
    "- bert:encoder of transformer\n",
    "    - transformer:encoder-decoder (seq2seq)\n",
    "\n",
    "- bert\n",
    "    - embeddings\n",
    "        - word(token) embedding\n",
    "        - position embedding\n",
    "        - token type embedding(segment type)\n",
    "    - encoder(12-layers)\n",
    "        - self-attention\n",
    "        - feed forward\n",
    "    - pooler"
   ]
  },
  {
   "cell_type": "code",
   "execution_count": 5,
   "metadata": {},
   "outputs": [],
   "source": [
    "# 参数量统计\n",
    "total_params = 0\n",
    "total_learnable_params = 0"
   ]
  },
  {
   "cell_type": "code",
   "execution_count": 8,
   "metadata": {},
   "outputs": [
    {
     "name": "stdout",
     "output_type": "stream",
     "text": [
      "embeddings.word_embeddings.weight -> torch.Size([30522, 768])\n",
      "embeddings.position_embeddings.weight -> torch.Size([512, 768])\n",
      "embeddings.token_type_embeddings.weight -> torch.Size([2, 768])\n",
      "embeddings.LayerNorm.weight -> torch.Size([768])\n",
      "embeddings.LayerNorm.bias -> torch.Size([768])\n",
      "encoder.layer.0.attention.self.query.weight -> torch.Size([768, 768])\n",
      "encoder.layer.0.attention.self.query.bias -> torch.Size([768])\n",
      "encoder.layer.0.attention.self.key.weight -> torch.Size([768, 768])\n",
      "encoder.layer.0.attention.self.key.bias -> torch.Size([768])\n",
      "encoder.layer.0.attention.self.value.weight -> torch.Size([768, 768])\n",
      "encoder.layer.0.attention.self.value.bias -> torch.Size([768])\n",
      "encoder.layer.0.attention.output.dense.weight -> torch.Size([768, 768])\n",
      "encoder.layer.0.attention.output.dense.bias -> torch.Size([768])\n",
      "encoder.layer.0.attention.output.LayerNorm.weight -> torch.Size([768])\n",
      "encoder.layer.0.attention.output.LayerNorm.bias -> torch.Size([768])\n",
      "encoder.layer.0.intermediate.dense.weight -> torch.Size([3072, 768])\n",
      "encoder.layer.0.intermediate.dense.bias -> torch.Size([3072])\n",
      "encoder.layer.0.output.dense.weight -> torch.Size([768, 3072])\n",
      "encoder.layer.0.output.dense.bias -> torch.Size([768])\n",
      "encoder.layer.0.output.LayerNorm.weight -> torch.Size([768])\n",
      "encoder.layer.0.output.LayerNorm.bias -> torch.Size([768])\n",
      "encoder.layer.1.attention.self.query.weight -> torch.Size([768, 768])\n",
      "encoder.layer.1.attention.self.query.bias -> torch.Size([768])\n",
      "encoder.layer.1.attention.self.key.weight -> torch.Size([768, 768])\n",
      "encoder.layer.1.attention.self.key.bias -> torch.Size([768])\n",
      "encoder.layer.1.attention.self.value.weight -> torch.Size([768, 768])\n",
      "encoder.layer.1.attention.self.value.bias -> torch.Size([768])\n",
      "encoder.layer.1.attention.output.dense.weight -> torch.Size([768, 768])\n",
      "encoder.layer.1.attention.output.dense.bias -> torch.Size([768])\n",
      "encoder.layer.1.attention.output.LayerNorm.weight -> torch.Size([768])\n",
      "encoder.layer.1.attention.output.LayerNorm.bias -> torch.Size([768])\n",
      "encoder.layer.1.intermediate.dense.weight -> torch.Size([3072, 768])\n",
      "encoder.layer.1.intermediate.dense.bias -> torch.Size([3072])\n",
      "encoder.layer.1.output.dense.weight -> torch.Size([768, 3072])\n",
      "encoder.layer.1.output.dense.bias -> torch.Size([768])\n",
      "encoder.layer.1.output.LayerNorm.weight -> torch.Size([768])\n",
      "encoder.layer.1.output.LayerNorm.bias -> torch.Size([768])\n",
      "encoder.layer.2.attention.self.query.weight -> torch.Size([768, 768])\n",
      "encoder.layer.2.attention.self.query.bias -> torch.Size([768])\n",
      "encoder.layer.2.attention.self.key.weight -> torch.Size([768, 768])\n",
      "encoder.layer.2.attention.self.key.bias -> torch.Size([768])\n",
      "encoder.layer.2.attention.self.value.weight -> torch.Size([768, 768])\n",
      "encoder.layer.2.attention.self.value.bias -> torch.Size([768])\n",
      "encoder.layer.2.attention.output.dense.weight -> torch.Size([768, 768])\n",
      "encoder.layer.2.attention.output.dense.bias -> torch.Size([768])\n",
      "encoder.layer.2.attention.output.LayerNorm.weight -> torch.Size([768])\n",
      "encoder.layer.2.attention.output.LayerNorm.bias -> torch.Size([768])\n",
      "encoder.layer.2.intermediate.dense.weight -> torch.Size([3072, 768])\n",
      "encoder.layer.2.intermediate.dense.bias -> torch.Size([3072])\n",
      "encoder.layer.2.output.dense.weight -> torch.Size([768, 3072])\n",
      "encoder.layer.2.output.dense.bias -> torch.Size([768])\n",
      "encoder.layer.2.output.LayerNorm.weight -> torch.Size([768])\n",
      "encoder.layer.2.output.LayerNorm.bias -> torch.Size([768])\n",
      "encoder.layer.3.attention.self.query.weight -> torch.Size([768, 768])\n",
      "encoder.layer.3.attention.self.query.bias -> torch.Size([768])\n",
      "encoder.layer.3.attention.self.key.weight -> torch.Size([768, 768])\n",
      "encoder.layer.3.attention.self.key.bias -> torch.Size([768])\n",
      "encoder.layer.3.attention.self.value.weight -> torch.Size([768, 768])\n",
      "encoder.layer.3.attention.self.value.bias -> torch.Size([768])\n",
      "encoder.layer.3.attention.output.dense.weight -> torch.Size([768, 768])\n",
      "encoder.layer.3.attention.output.dense.bias -> torch.Size([768])\n",
      "encoder.layer.3.attention.output.LayerNorm.weight -> torch.Size([768])\n",
      "encoder.layer.3.attention.output.LayerNorm.bias -> torch.Size([768])\n",
      "encoder.layer.3.intermediate.dense.weight -> torch.Size([3072, 768])\n",
      "encoder.layer.3.intermediate.dense.bias -> torch.Size([3072])\n",
      "encoder.layer.3.output.dense.weight -> torch.Size([768, 3072])\n",
      "encoder.layer.3.output.dense.bias -> torch.Size([768])\n",
      "encoder.layer.3.output.LayerNorm.weight -> torch.Size([768])\n",
      "encoder.layer.3.output.LayerNorm.bias -> torch.Size([768])\n",
      "encoder.layer.4.attention.self.query.weight -> torch.Size([768, 768])\n",
      "encoder.layer.4.attention.self.query.bias -> torch.Size([768])\n",
      "encoder.layer.4.attention.self.key.weight -> torch.Size([768, 768])\n",
      "encoder.layer.4.attention.self.key.bias -> torch.Size([768])\n",
      "encoder.layer.4.attention.self.value.weight -> torch.Size([768, 768])\n",
      "encoder.layer.4.attention.self.value.bias -> torch.Size([768])\n",
      "encoder.layer.4.attention.output.dense.weight -> torch.Size([768, 768])\n",
      "encoder.layer.4.attention.output.dense.bias -> torch.Size([768])\n",
      "encoder.layer.4.attention.output.LayerNorm.weight -> torch.Size([768])\n",
      "encoder.layer.4.attention.output.LayerNorm.bias -> torch.Size([768])\n",
      "encoder.layer.4.intermediate.dense.weight -> torch.Size([3072, 768])\n",
      "encoder.layer.4.intermediate.dense.bias -> torch.Size([3072])\n",
      "encoder.layer.4.output.dense.weight -> torch.Size([768, 3072])\n",
      "encoder.layer.4.output.dense.bias -> torch.Size([768])\n",
      "encoder.layer.4.output.LayerNorm.weight -> torch.Size([768])\n",
      "encoder.layer.4.output.LayerNorm.bias -> torch.Size([768])\n",
      "encoder.layer.5.attention.self.query.weight -> torch.Size([768, 768])\n",
      "encoder.layer.5.attention.self.query.bias -> torch.Size([768])\n",
      "encoder.layer.5.attention.self.key.weight -> torch.Size([768, 768])\n",
      "encoder.layer.5.attention.self.key.bias -> torch.Size([768])\n",
      "encoder.layer.5.attention.self.value.weight -> torch.Size([768, 768])\n",
      "encoder.layer.5.attention.self.value.bias -> torch.Size([768])\n",
      "encoder.layer.5.attention.output.dense.weight -> torch.Size([768, 768])\n",
      "encoder.layer.5.attention.output.dense.bias -> torch.Size([768])\n",
      "encoder.layer.5.attention.output.LayerNorm.weight -> torch.Size([768])\n",
      "encoder.layer.5.attention.output.LayerNorm.bias -> torch.Size([768])\n",
      "encoder.layer.5.intermediate.dense.weight -> torch.Size([3072, 768])\n",
      "encoder.layer.5.intermediate.dense.bias -> torch.Size([3072])\n",
      "encoder.layer.5.output.dense.weight -> torch.Size([768, 3072])\n",
      "encoder.layer.5.output.dense.bias -> torch.Size([768])\n",
      "encoder.layer.5.output.LayerNorm.weight -> torch.Size([768])\n",
      "encoder.layer.5.output.LayerNorm.bias -> torch.Size([768])\n",
      "encoder.layer.6.attention.self.query.weight -> torch.Size([768, 768])\n",
      "encoder.layer.6.attention.self.query.bias -> torch.Size([768])\n",
      "encoder.layer.6.attention.self.key.weight -> torch.Size([768, 768])\n",
      "encoder.layer.6.attention.self.key.bias -> torch.Size([768])\n",
      "encoder.layer.6.attention.self.value.weight -> torch.Size([768, 768])\n",
      "encoder.layer.6.attention.self.value.bias -> torch.Size([768])\n",
      "encoder.layer.6.attention.output.dense.weight -> torch.Size([768, 768])\n",
      "encoder.layer.6.attention.output.dense.bias -> torch.Size([768])\n",
      "encoder.layer.6.attention.output.LayerNorm.weight -> torch.Size([768])\n",
      "encoder.layer.6.attention.output.LayerNorm.bias -> torch.Size([768])\n",
      "encoder.layer.6.intermediate.dense.weight -> torch.Size([3072, 768])\n",
      "encoder.layer.6.intermediate.dense.bias -> torch.Size([3072])\n",
      "encoder.layer.6.output.dense.weight -> torch.Size([768, 3072])\n",
      "encoder.layer.6.output.dense.bias -> torch.Size([768])\n",
      "encoder.layer.6.output.LayerNorm.weight -> torch.Size([768])\n",
      "encoder.layer.6.output.LayerNorm.bias -> torch.Size([768])\n",
      "encoder.layer.7.attention.self.query.weight -> torch.Size([768, 768])\n",
      "encoder.layer.7.attention.self.query.bias -> torch.Size([768])\n",
      "encoder.layer.7.attention.self.key.weight -> torch.Size([768, 768])\n",
      "encoder.layer.7.attention.self.key.bias -> torch.Size([768])\n",
      "encoder.layer.7.attention.self.value.weight -> torch.Size([768, 768])\n",
      "encoder.layer.7.attention.self.value.bias -> torch.Size([768])\n",
      "encoder.layer.7.attention.output.dense.weight -> torch.Size([768, 768])\n",
      "encoder.layer.7.attention.output.dense.bias -> torch.Size([768])\n",
      "encoder.layer.7.attention.output.LayerNorm.weight -> torch.Size([768])\n",
      "encoder.layer.7.attention.output.LayerNorm.bias -> torch.Size([768])\n",
      "encoder.layer.7.intermediate.dense.weight -> torch.Size([3072, 768])\n",
      "encoder.layer.7.intermediate.dense.bias -> torch.Size([3072])\n",
      "encoder.layer.7.output.dense.weight -> torch.Size([768, 3072])\n",
      "encoder.layer.7.output.dense.bias -> torch.Size([768])\n",
      "encoder.layer.7.output.LayerNorm.weight -> torch.Size([768])\n",
      "encoder.layer.7.output.LayerNorm.bias -> torch.Size([768])\n",
      "encoder.layer.8.attention.self.query.weight -> torch.Size([768, 768])\n",
      "encoder.layer.8.attention.self.query.bias -> torch.Size([768])\n",
      "encoder.layer.8.attention.self.key.weight -> torch.Size([768, 768])\n",
      "encoder.layer.8.attention.self.key.bias -> torch.Size([768])\n",
      "encoder.layer.8.attention.self.value.weight -> torch.Size([768, 768])\n",
      "encoder.layer.8.attention.self.value.bias -> torch.Size([768])\n",
      "encoder.layer.8.attention.output.dense.weight -> torch.Size([768, 768])\n",
      "encoder.layer.8.attention.output.dense.bias -> torch.Size([768])\n",
      "encoder.layer.8.attention.output.LayerNorm.weight -> torch.Size([768])\n",
      "encoder.layer.8.attention.output.LayerNorm.bias -> torch.Size([768])\n",
      "encoder.layer.8.intermediate.dense.weight -> torch.Size([3072, 768])\n",
      "encoder.layer.8.intermediate.dense.bias -> torch.Size([3072])\n",
      "encoder.layer.8.output.dense.weight -> torch.Size([768, 3072])\n",
      "encoder.layer.8.output.dense.bias -> torch.Size([768])\n",
      "encoder.layer.8.output.LayerNorm.weight -> torch.Size([768])\n",
      "encoder.layer.8.output.LayerNorm.bias -> torch.Size([768])\n",
      "encoder.layer.9.attention.self.query.weight -> torch.Size([768, 768])\n",
      "encoder.layer.9.attention.self.query.bias -> torch.Size([768])\n",
      "encoder.layer.9.attention.self.key.weight -> torch.Size([768, 768])\n",
      "encoder.layer.9.attention.self.key.bias -> torch.Size([768])\n",
      "encoder.layer.9.attention.self.value.weight -> torch.Size([768, 768])\n",
      "encoder.layer.9.attention.self.value.bias -> torch.Size([768])\n",
      "encoder.layer.9.attention.output.dense.weight -> torch.Size([768, 768])\n",
      "encoder.layer.9.attention.output.dense.bias -> torch.Size([768])\n",
      "encoder.layer.9.attention.output.LayerNorm.weight -> torch.Size([768])\n",
      "encoder.layer.9.attention.output.LayerNorm.bias -> torch.Size([768])\n",
      "encoder.layer.9.intermediate.dense.weight -> torch.Size([3072, 768])\n",
      "encoder.layer.9.intermediate.dense.bias -> torch.Size([3072])\n",
      "encoder.layer.9.output.dense.weight -> torch.Size([768, 3072])\n",
      "encoder.layer.9.output.dense.bias -> torch.Size([768])\n",
      "encoder.layer.9.output.LayerNorm.weight -> torch.Size([768])\n",
      "encoder.layer.9.output.LayerNorm.bias -> torch.Size([768])\n",
      "encoder.layer.10.attention.self.query.weight -> torch.Size([768, 768])\n",
      "encoder.layer.10.attention.self.query.bias -> torch.Size([768])\n",
      "encoder.layer.10.attention.self.key.weight -> torch.Size([768, 768])\n",
      "encoder.layer.10.attention.self.key.bias -> torch.Size([768])\n",
      "encoder.layer.10.attention.self.value.weight -> torch.Size([768, 768])\n",
      "encoder.layer.10.attention.self.value.bias -> torch.Size([768])\n",
      "encoder.layer.10.attention.output.dense.weight -> torch.Size([768, 768])\n",
      "encoder.layer.10.attention.output.dense.bias -> torch.Size([768])\n",
      "encoder.layer.10.attention.output.LayerNorm.weight -> torch.Size([768])\n",
      "encoder.layer.10.attention.output.LayerNorm.bias -> torch.Size([768])\n",
      "encoder.layer.10.intermediate.dense.weight -> torch.Size([3072, 768])\n",
      "encoder.layer.10.intermediate.dense.bias -> torch.Size([3072])\n",
      "encoder.layer.10.output.dense.weight -> torch.Size([768, 3072])\n",
      "encoder.layer.10.output.dense.bias -> torch.Size([768])\n",
      "encoder.layer.10.output.LayerNorm.weight -> torch.Size([768])\n",
      "encoder.layer.10.output.LayerNorm.bias -> torch.Size([768])\n",
      "encoder.layer.11.attention.self.query.weight -> torch.Size([768, 768])\n",
      "encoder.layer.11.attention.self.query.bias -> torch.Size([768])\n",
      "encoder.layer.11.attention.self.key.weight -> torch.Size([768, 768])\n",
      "encoder.layer.11.attention.self.key.bias -> torch.Size([768])\n",
      "encoder.layer.11.attention.self.value.weight -> torch.Size([768, 768])\n",
      "encoder.layer.11.attention.self.value.bias -> torch.Size([768])\n",
      "encoder.layer.11.attention.output.dense.weight -> torch.Size([768, 768])\n",
      "encoder.layer.11.attention.output.dense.bias -> torch.Size([768])\n",
      "encoder.layer.11.attention.output.LayerNorm.weight -> torch.Size([768])\n",
      "encoder.layer.11.attention.output.LayerNorm.bias -> torch.Size([768])\n",
      "encoder.layer.11.intermediate.dense.weight -> torch.Size([3072, 768])\n",
      "encoder.layer.11.intermediate.dense.bias -> torch.Size([3072])\n",
      "encoder.layer.11.output.dense.weight -> torch.Size([768, 3072])\n",
      "encoder.layer.11.output.dense.bias -> torch.Size([768])\n",
      "encoder.layer.11.output.LayerNorm.weight -> torch.Size([768])\n",
      "encoder.layer.11.output.LayerNorm.bias -> torch.Size([768])\n",
      "pooler.dense.weight -> torch.Size([768, 768])\n",
      "pooler.dense.bias -> torch.Size([768])\n"
     ]
    }
   ],
   "source": [
    "for name, params in model.named_parameters():\n",
    "    print(name, '->', params.shape)\n",
    "    if params.requires_grad:\n",
    "        total_learnable_params += params.numel()\n",
    "    total_params += params.numel()"
   ]
  },
  {
   "cell_type": "code",
   "execution_count": 9,
   "metadata": {},
   "outputs": [
    {
     "data": {
      "text/plain": [
       "109482240"
      ]
     },
     "execution_count": 9,
     "metadata": {},
     "output_type": "execute_result"
    }
   ],
   "source": [
    "total_params"
   ]
  },
  {
   "cell_type": "code",
   "execution_count": 10,
   "metadata": {},
   "outputs": [
    {
     "data": {
      "text/plain": [
       "109482240"
      ]
     },
     "execution_count": 10,
     "metadata": {},
     "output_type": "execute_result"
    }
   ],
   "source": [
    "total_learnable_params"
   ]
  },
  {
   "cell_type": "code",
   "execution_count": null,
   "metadata": {},
   "outputs": [],
   "source": []
  }
 ],
 "metadata": {
  "kernelspec": {
   "display_name": "unet",
   "language": "python",
   "name": "python3"
  },
  "language_info": {
   "codemirror_mode": {
    "name": "ipython",
    "version": 3
   },
   "file_extension": ".py",
   "mimetype": "text/x-python",
   "name": "python",
   "nbconvert_exporter": "python",
   "pygments_lexer": "ipython3",
   "version": "3.9.18"
  }
 },
 "nbformat": 4,
 "nbformat_minor": 2
}
