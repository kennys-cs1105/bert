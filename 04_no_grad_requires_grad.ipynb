{
 "cells": [
  {
   "cell_type": "markdown",
   "metadata": {},
   "source": [
    "## torch.no_grad() vs param.requires_grad\n",
    "\n",
    "- torch.no_grad()\n",
    "    - 定义一个上下文管理器，隐式的不进行梯度更新，不会改变requires_grad\n",
    "    - 适用于eval阶段，或model forward的过程中某些模块不更新梯度的模块（这些模块仅进行特征提取，前向计算，不反向更新）\n",
    "- param.requires_grad\n",
    "    - 显式的frozen掉一些module（layer）的梯度更新\n",
    "    - layer / module级别\n",
    "- 模型中两个都没有设置时，计算量庞大，容易出现out of mem\n"
   ]
  },
  {
   "cell_type": "code",
   "execution_count": null,
   "metadata": {},
   "outputs": [],
   "source": [
    "from transformers import BertModel"
   ]
  }
 ],
 "metadata": {
  "language_info": {
   "name": "python"
  }
 },
 "nbformat": 4,
 "nbformat_minor": 2
}
